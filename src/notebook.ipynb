{
 "metadata": {
  "language_info": {
   "codemirror_mode": {
    "name": "ipython",
    "version": 3
   },
   "file_extension": ".py",
   "mimetype": "text/x-python",
   "name": "python",
   "nbconvert_exporter": "python",
   "pygments_lexer": "ipython3",
   "version": "3.8.6-final"
  },
  "orig_nbformat": 2,
  "kernelspec": {
   "name": "python3",
   "display_name": "Python 3.8.6 64-bit",
   "metadata": {
    "interpreter": {
     "hash": "4cd7ab41f5fca4b9b44701077e38c5ffd31fe66a6cab21e0214b68d958d0e462"
    }
   }
  }
 },
 "nbformat": 4,
 "nbformat_minor": 2,
 "cells": [
  {
   "cell_type": "code",
   "execution_count": 43,
   "metadata": {},
   "outputs": [],
   "source": [
    "import pandas as pd \n",
    "import tensorflow as tf\n",
    "from pymongo import MongoClient"
   ]
  },
  {
   "cell_type": "code",
   "execution_count": 44,
   "metadata": {},
   "outputs": [],
   "source": [
    "mongo = MongoClient(os.environ['MONGODB_URI'])\n",
    "db= mongo.associador\n"
   ]
  },
  {
   "cell_type": "code",
   "execution_count": 45,
   "metadata": {},
   "outputs": [],
   "source": [
    "df = pd.DataFrame(list(db.opcoes_limpinhas.find({})))"
   ]
  },
  {
   "cell_type": "code",
   "execution_count": 46,
   "metadata": {},
   "outputs": [
    {
     "output_type": "execute_result",
     "data": {
      "text/plain": [
       "                        _id                  id_teste  escolha  \\\n",
       "0  5faeeacadcb607d9cbd18d41  5fa9e4815aa9458cc97057a1      1.0   \n",
       "1  5faeeacadcb607d9cbd18d42  5faebdffe2402e2c3c7f3e4d      1.0   \n",
       "2  5faeeacadcb607d9cbd18d43                       NaN      NaN   \n",
       "3  5faeeacadcb607d9cbd18d44                       NaN      NaN   \n",
       "\n",
       "   tempo_total_milisegundos  p1_selecaoecao  p1_tempo  p2_selecao  p2_tempo  \\\n",
       "0                       NaN             NaN       NaN         NaN       NaN   \n",
       "1                       NaN             NaN       NaN         NaN       NaN   \n",
       "2                  0.001287             0.0       0.0         0.0       0.0   \n",
       "3                  0.012233             NaN       0.0         0.0       0.0   \n",
       "\n",
       "   p3_selecao  p3_tempo  ...  p47_tempo  p48_selecao  p48_tempo  p49_selecao  \\\n",
       "0         NaN       NaN  ...        NaN          NaN        NaN          NaN   \n",
       "1         NaN       NaN  ...        NaN          NaN        NaN          NaN   \n",
       "2         0.0       0.0  ...   0.000000          0.0   0.000000          0.0   \n",
       "3         0.0       0.0  ...   0.448569          1.0   0.835967          1.0   \n",
       "\n",
       "   p49_tempo  p50_selecao  p50_tempo  p51_selecao  p51_tempo  p1_selecao  \n",
       "0        NaN          NaN        NaN          NaN        NaN         NaN  \n",
       "1        NaN          NaN        NaN          NaN        NaN         NaN  \n",
       "2   0.000000          0.0        0.0          0.0   0.000000         NaN  \n",
       "3   0.938896          0.0        0.0          1.0   0.868665         0.0  \n",
       "\n",
       "[4 rows x 107 columns]"
      ],
      "text/html": "<div>\n<style scoped>\n    .dataframe tbody tr th:only-of-type {\n        vertical-align: middle;\n    }\n\n    .dataframe tbody tr th {\n        vertical-align: top;\n    }\n\n    .dataframe thead th {\n        text-align: right;\n    }\n</style>\n<table border=\"1\" class=\"dataframe\">\n  <thead>\n    <tr style=\"text-align: right;\">\n      <th></th>\n      <th>_id</th>\n      <th>id_teste</th>\n      <th>escolha</th>\n      <th>tempo_total_milisegundos</th>\n      <th>p1_selecaoecao</th>\n      <th>p1_tempo</th>\n      <th>p2_selecao</th>\n      <th>p2_tempo</th>\n      <th>p3_selecao</th>\n      <th>p3_tempo</th>\n      <th>...</th>\n      <th>p47_tempo</th>\n      <th>p48_selecao</th>\n      <th>p48_tempo</th>\n      <th>p49_selecao</th>\n      <th>p49_tempo</th>\n      <th>p50_selecao</th>\n      <th>p50_tempo</th>\n      <th>p51_selecao</th>\n      <th>p51_tempo</th>\n      <th>p1_selecao</th>\n    </tr>\n  </thead>\n  <tbody>\n    <tr>\n      <th>0</th>\n      <td>5faeeacadcb607d9cbd18d41</td>\n      <td>5fa9e4815aa9458cc97057a1</td>\n      <td>1.0</td>\n      <td>NaN</td>\n      <td>NaN</td>\n      <td>NaN</td>\n      <td>NaN</td>\n      <td>NaN</td>\n      <td>NaN</td>\n      <td>NaN</td>\n      <td>...</td>\n      <td>NaN</td>\n      <td>NaN</td>\n      <td>NaN</td>\n      <td>NaN</td>\n      <td>NaN</td>\n      <td>NaN</td>\n      <td>NaN</td>\n      <td>NaN</td>\n      <td>NaN</td>\n      <td>NaN</td>\n    </tr>\n    <tr>\n      <th>1</th>\n      <td>5faeeacadcb607d9cbd18d42</td>\n      <td>5faebdffe2402e2c3c7f3e4d</td>\n      <td>1.0</td>\n      <td>NaN</td>\n      <td>NaN</td>\n      <td>NaN</td>\n      <td>NaN</td>\n      <td>NaN</td>\n      <td>NaN</td>\n      <td>NaN</td>\n      <td>...</td>\n      <td>NaN</td>\n      <td>NaN</td>\n      <td>NaN</td>\n      <td>NaN</td>\n      <td>NaN</td>\n      <td>NaN</td>\n      <td>NaN</td>\n      <td>NaN</td>\n      <td>NaN</td>\n      <td>NaN</td>\n    </tr>\n    <tr>\n      <th>2</th>\n      <td>5faeeacadcb607d9cbd18d43</td>\n      <td>NaN</td>\n      <td>NaN</td>\n      <td>0.001287</td>\n      <td>0.0</td>\n      <td>0.0</td>\n      <td>0.0</td>\n      <td>0.0</td>\n      <td>0.0</td>\n      <td>0.0</td>\n      <td>...</td>\n      <td>0.000000</td>\n      <td>0.0</td>\n      <td>0.000000</td>\n      <td>0.0</td>\n      <td>0.000000</td>\n      <td>0.0</td>\n      <td>0.0</td>\n      <td>0.0</td>\n      <td>0.000000</td>\n      <td>NaN</td>\n    </tr>\n    <tr>\n      <th>3</th>\n      <td>5faeeacadcb607d9cbd18d44</td>\n      <td>NaN</td>\n      <td>NaN</td>\n      <td>0.012233</td>\n      <td>NaN</td>\n      <td>0.0</td>\n      <td>0.0</td>\n      <td>0.0</td>\n      <td>0.0</td>\n      <td>0.0</td>\n      <td>...</td>\n      <td>0.448569</td>\n      <td>1.0</td>\n      <td>0.835967</td>\n      <td>1.0</td>\n      <td>0.938896</td>\n      <td>0.0</td>\n      <td>0.0</td>\n      <td>1.0</td>\n      <td>0.868665</td>\n      <td>0.0</td>\n    </tr>\n  </tbody>\n</table>\n<p>4 rows × 107 columns</p>\n</div>"
     },
     "metadata": {},
     "execution_count": 46
    }
   ],
   "source": [
    "df.head()"
   ]
  },
  {
   "cell_type": "code",
   "execution_count": null,
   "metadata": {},
   "outputs": [],
   "source": []
  }
 ]
}